{
 "cells": [
  {
   "cell_type": "markdown",
   "id": "c0e05273",
   "metadata": {},
   "source": [
    "**IMDB dataset:** a set of 50,000 highly polarized reviews from the\n",
    "Internet Movie Database. They’re split into 25,000 reviews for training and 25,000\n",
    "reviews for testing, each set consisting of 50% negative and 50% positive reviews.\n",
    "\n",
    "The reviews (sequences of words) **have been turned into\n",
    "sequences of integers**, where each integer stands for a specific word in a dictionary.\n",
    "\n",
    "The variables `train_data` and `test_data` are lists of reviews; each review is a list of\n",
    "word indices (encoding a sequence of words). `train_labels` and `test_labels` are\n",
    "lists of 0s and 1s, where **0 stands for negative and 1 stands for positive**"
   ]
  },
  {
   "cell_type": "code",
   "execution_count": 1,
   "id": "1368a677",
   "metadata": {},
   "outputs": [],
   "source": [
    "from keras.datasets import imdb\n",
    "(train_data, train_labels), (test_data, test_labels) = imdb.load_data(num_words=10000)"
   ]
  },
  {
   "cell_type": "markdown",
   "id": "f1cfe615",
   "metadata": {},
   "source": [
    "----------------------------------------------------------------------------------\n",
    "For kicks, here’s how you can quickly decode one of these reviews back to English\n",
    "words"
   ]
  },
  {
   "cell_type": "code",
   "execution_count": 2,
   "id": "5717084b",
   "metadata": {},
   "outputs": [
    {
     "name": "stdout",
     "output_type": "stream",
     "text": [
      "Downloading data from https://storage.googleapis.com/tensorflow/tf-keras-datasets/imdb_word_index.json\n",
      "1646592/1641221 [==============================] - 1s 1us/step\n",
      "1654784/1641221 [==============================] - 1s 1us/step\n"
     ]
    }
   ],
   "source": [
    "word_index = imdb.get_word_index()\n",
    "reverse_word_index = dict([(value, key) for (key, value) in word_index.items()])\n",
    "decoded_review = ' '.join([reverse_word_index.get(i - 3, '?') for i in train_data[5]])"
   ]
  },
  {
   "cell_type": "markdown",
   "id": "eb755f0d",
   "metadata": {},
   "source": [
    "----------------------------------------------------------------------------------------------"
   ]
  },
  {
   "cell_type": "markdown",
   "id": "d9caa2bb",
   "metadata": {},
   "source": [
    "# Preparing the data\n",
    "We can’t feed lists of integers into a neural network. They have to be turned into\n",
    "tensors. There are two ways to do that:\n",
    "- Pad the lists so that they all have the same length, turn them into an integer tensor of shape ```(samples, word_indices)``` , and then use as the first layer in your network a layer capable of handling such integer tensors (the **Embedding layer**, which we’ll cover in detail later in the book).\n",
    "- **One-hot encode** your lists to turn them into vectors of 0s and 1s. This would mean, for instance, turning the sequence [3, 5] into a 10,000-dimensional vector that would be all 0s except for indices 3 and 5, which would be 1s. Then you could use as the first layer in your network a **Dense layer**, capable of handling floating-point vector data."
   ]
  },
  {
   "cell_type": "code",
   "execution_count": 3,
   "id": "38e3d837",
   "metadata": {},
   "outputs": [],
   "source": [
    "import numpy as np\n",
    "#from tensorflow.keras.utils import to_categorical"
   ]
  },
  {
   "cell_type": "markdown",
   "id": "4b0cb578",
   "metadata": {},
   "source": [
    "Manually:"
   ]
  },
  {
   "cell_type": "code",
   "execution_count": 4,
   "id": "16e164f5",
   "metadata": {},
   "outputs": [],
   "source": [
    "def vectorize_sequences(sequences, dimension=10000):\n",
    "    results = np.zeros((len(sequences), dimension))\n",
    "    for i, sequence in enumerate(sequences):\n",
    "        results[i, sequence] = 1.\n",
    "    return results"
   ]
  },
  {
   "cell_type": "code",
   "execution_count": 5,
   "id": "b4b6cc99",
   "metadata": {},
   "outputs": [],
   "source": [
    "x_train = vectorize_sequences(train_data)"
   ]
  },
  {
   "cell_type": "code",
   "execution_count": 6,
   "id": "c18ad024",
   "metadata": {},
   "outputs": [],
   "source": [
    "x_test = vectorize_sequences(test_data)"
   ]
  },
  {
   "cell_type": "markdown",
   "id": "10abcefc",
   "metadata": {},
   "source": [
    "Using keras ```to_categorical```:"
   ]
  },
  {
   "cell_type": "code",
   "execution_count": 7,
   "id": "3bb11dc4",
   "metadata": {},
   "outputs": [],
   "source": [
    "#x_train = to_categorical(train_data)"
   ]
  },
  {
   "cell_type": "code",
   "execution_count": 8,
   "id": "6cdebf8a",
   "metadata": {},
   "outputs": [],
   "source": [
    "#x_train"
   ]
  },
  {
   "cell_type": "markdown",
   "id": "7f4b9d00",
   "metadata": {},
   "source": [
    "Vectorize the labels"
   ]
  },
  {
   "cell_type": "code",
   "execution_count": 9,
   "id": "a19fbd63",
   "metadata": {},
   "outputs": [],
   "source": [
    "y_train = np.asarray(train_labels).astype('float32')\n",
    "y_test = np.asarray(test_labels).astype('float32')"
   ]
  },
  {
   "cell_type": "markdown",
   "id": "118e4984",
   "metadata": {},
   "source": [
    "# Building the network\n",
    "The **input data is vectors**, and the **labels are scalars**: *the easiest setup we can encounter*.\n",
    "A type of network that performs well on such a problem is\n",
    "a simple stack of fully connected (**Dense**) layers with **relu activations**\n",
    "\n",
    "A **relu** (rectified linear unit) is a function **meant to zero out negative values**.\n",
    "\n",
    "=> ```Dense(16, activation='relu')``` where 16 is the number of *hidden units* of the layer.\n",
    "\n",
    "A hidden unit is a dimension in the representation space of the layer. The *weight matrix W* will have shape ```(input_dimension, hidden units)```\n",
    "\n",
    "A **Dense layer with a relu activation** implements the following chain of tensor operations:\n",
    "```output = relu(dot(W, input) + b)```\n",
    "the dot product with W will project the input data onto a hidden units-dimensional representation space (and then you’ll add the bias vector b and apply the relu operation)\n",
    "\n",
    ">Intuitively, the dimensionality of your representation space is *“how much freedom you’re allowing the network to have when learning internal representations.”* Having more hidden units (a higher-dimensional representation space) allows your network to learn more-complex representations, but can be expensive and lead to overfitting.\n",
    "\n",
    "The final layer will use a **sigmoid activation so as to output a probability**, between 0 (not likely) and 1 (likely)."
   ]
  },
  {
   "cell_type": "code",
   "execution_count": 10,
   "id": "2d0e3a92",
   "metadata": {},
   "outputs": [],
   "source": [
    "from keras import models\n",
    "from keras import layers"
   ]
  },
  {
   "cell_type": "code",
   "execution_count": 11,
   "id": "4366064a",
   "metadata": {},
   "outputs": [],
   "source": [
    "model = models.Sequential()\n",
    "model.add(layers.Dense(16, activation='relu', input_shape=(10000,)))\n",
    "model.add(layers.Dense(16, activation='relu'))\n",
    "model.add(layers.Dense(1, activation='sigmoid'))"
   ]
  },
  {
   "cell_type": "markdown",
   "id": "77be3470",
   "metadata": {},
   "source": [
    "This is a binary classification problem and the output of your network is a probability. So, for **loss function**, crossentropy is the best option when dealing with probabilities outputs. Crossentropy measures the distance between probability distributions or, in this case, between the ground-truth distribution and the predictions.\n",
    "\n",
    "For the **optimizer**, rmsprop."
   ]
  },
  {
   "cell_type": "code",
   "execution_count": 12,
   "id": "eae10291",
   "metadata": {},
   "outputs": [],
   "source": [
    "model.compile(optimizer='rmsprop',\n",
    "              loss='binary_crossentropy',\n",
    "              metrics=['accuracy'])"
   ]
  },
  {
   "cell_type": "markdown",
   "id": "a9d55bc6",
   "metadata": {},
   "source": [
    "# Validation of the approach\n",
    "Create a validation set by setting apart 10,000 samples from the original training data"
   ]
  },
  {
   "cell_type": "code",
   "execution_count": 13,
   "id": "dcef81b2",
   "metadata": {},
   "outputs": [],
   "source": [
    "x_val = x_train[:10000]\n",
    "partial_x_train = x_train[10000:]\n",
    "y_val = y_train[:10000]\n",
    "partial_y_train = y_train[10000:]"
   ]
  },
  {
   "cell_type": "markdown",
   "id": "e4463ef6",
   "metadata": {},
   "source": [
    "Train the model for 4 epochs (4 iterations over all samples in the x_train and y_train tensors), in mini-batches of 512 samples. \n",
    "\n",
    "At the same time, monitor loss and accuracy on the 10,000 samples set apart. To do so, pass the validation data as the validation_data argument:"
   ]
  },
  {
   "cell_type": "code",
   "execution_count": 14,
   "id": "8694e01d",
   "metadata": {},
   "outputs": [
    {
     "name": "stdout",
     "output_type": "stream",
     "text": [
      "Epoch 1/20\n",
      "30/30 [==============================] - 1s 29ms/step - loss: 0.5349 - accuracy: 0.7740 - val_loss: 0.4085 - val_accuracy: 0.8651\n",
      "Epoch 2/20\n",
      "30/30 [==============================] - 0s 10ms/step - loss: 0.3118 - accuracy: 0.9038 - val_loss: 0.3070 - val_accuracy: 0.8855\n",
      "Epoch 3/20\n",
      "30/30 [==============================] - 0s 10ms/step - loss: 0.2212 - accuracy: 0.9279 - val_loss: 0.3151 - val_accuracy: 0.8723\n",
      "Epoch 4/20\n",
      "30/30 [==============================] - 0s 10ms/step - loss: 0.1717 - accuracy: 0.9474 - val_loss: 0.2785 - val_accuracy: 0.8876\n",
      "Epoch 5/20\n",
      "30/30 [==============================] - 0s 10ms/step - loss: 0.1377 - accuracy: 0.9582 - val_loss: 0.2936 - val_accuracy: 0.8833\n",
      "Epoch 6/20\n",
      "30/30 [==============================] - 0s 10ms/step - loss: 0.1137 - accuracy: 0.9650 - val_loss: 0.2995 - val_accuracy: 0.8848\n",
      "Epoch 7/20\n",
      "30/30 [==============================] - 0s 9ms/step - loss: 0.0943 - accuracy: 0.9733 - val_loss: 0.3157 - val_accuracy: 0.8829\n",
      "Epoch 8/20\n",
      "30/30 [==============================] - 0s 10ms/step - loss: 0.0760 - accuracy: 0.9787 - val_loss: 0.3557 - val_accuracy: 0.8724\n",
      "Epoch 9/20\n",
      "30/30 [==============================] - 0s 10ms/step - loss: 0.0633 - accuracy: 0.9837 - val_loss: 0.3834 - val_accuracy: 0.8762\n",
      "Epoch 10/20\n",
      "30/30 [==============================] - 0s 10ms/step - loss: 0.0475 - accuracy: 0.9905 - val_loss: 0.3819 - val_accuracy: 0.8746\n",
      "Epoch 11/20\n",
      "30/30 [==============================] - 0s 9ms/step - loss: 0.0381 - accuracy: 0.9927 - val_loss: 0.4120 - val_accuracy: 0.8762\n",
      "Epoch 12/20\n",
      "30/30 [==============================] - 0s 10ms/step - loss: 0.0332 - accuracy: 0.9936 - val_loss: 0.4473 - val_accuracy: 0.8753\n",
      "Epoch 13/20\n",
      "30/30 [==============================] - 0s 10ms/step - loss: 0.0248 - accuracy: 0.9957 - val_loss: 0.4686 - val_accuracy: 0.8734\n",
      "Epoch 14/20\n",
      "30/30 [==============================] - 0s 10ms/step - loss: 0.0178 - accuracy: 0.9967 - val_loss: 0.4973 - val_accuracy: 0.8728\n",
      "Epoch 15/20\n",
      "30/30 [==============================] - 0s 10ms/step - loss: 0.0128 - accuracy: 0.9989 - val_loss: 0.5444 - val_accuracy: 0.8624\n",
      "Epoch 16/20\n",
      "30/30 [==============================] - 0s 10ms/step - loss: 0.0148 - accuracy: 0.9975 - val_loss: 0.5622 - val_accuracy: 0.8715\n",
      "Epoch 17/20\n",
      "30/30 [==============================] - 0s 10ms/step - loss: 0.0065 - accuracy: 0.9997 - val_loss: 0.6025 - val_accuracy: 0.8708\n",
      "Epoch 18/20\n",
      "30/30 [==============================] - 0s 10ms/step - loss: 0.0091 - accuracy: 0.9987 - val_loss: 0.6154 - val_accuracy: 0.8699\n",
      "Epoch 19/20\n",
      "30/30 [==============================] - 0s 10ms/step - loss: 0.0052 - accuracy: 0.9998 - val_loss: 0.6571 - val_accuracy: 0.8693\n",
      "Epoch 20/20\n",
      "30/30 [==============================] - 0s 9ms/step - loss: 0.0029 - accuracy: 0.9999 - val_loss: 0.6838 - val_accuracy: 0.8671\n"
     ]
    }
   ],
   "source": [
    "history = model.fit(partial_x_train,\n",
    "                    partial_y_train,\n",
    "                    epochs=20,\n",
    "                    batch_size=512,\n",
    "                    validation_data=(x_val, y_val))"
   ]
  },
  {
   "cell_type": "markdown",
   "id": "83c60078",
   "metadata": {},
   "source": [
    "The call to ```model.fit()``` returns a ```History``` object. This object has a member ```history```, which is a dictionary containing data about everything that happened during training:\n",
    "\n",
    "```>>> history_dict = history.history```    \n",
    "```>>> history_dict.keys()```    \n",
    "```[u'acc', u'loss', u'val_acc', u'val_loss']```\n",
    "\n",
    "The dictionary contains four entries: one per metric that was being monitored during training and during validation."
   ]
  },
  {
   "cell_type": "code",
   "execution_count": 15,
   "id": "5a6e9b32",
   "metadata": {},
   "outputs": [],
   "source": [
    "import matplotlib.pyplot as plt"
   ]
  },
  {
   "cell_type": "markdown",
   "id": "503d56ce",
   "metadata": {},
   "source": [
    "Plotting the training and validation **loss**"
   ]
  },
  {
   "cell_type": "code",
   "execution_count": 16,
   "id": "1b901942",
   "metadata": {},
   "outputs": [
    {
     "data": {
      "text/plain": [
       "dict_keys(['loss', 'accuracy', 'val_loss', 'val_accuracy'])"
      ]
     },
     "execution_count": 16,
     "metadata": {},
     "output_type": "execute_result"
    }
   ],
   "source": [
    "history_dict = history.history\n",
    "history_dict.keys()"
   ]
  },
  {
   "cell_type": "code",
   "execution_count": 17,
   "id": "e80421eb",
   "metadata": {},
   "outputs": [
    {
     "data": {
      "image/png": "[encoded data removed]",
      "text/plain": [
       "<Figure size 640x480 with 1 Axes>"
      ]
     },
     "metadata": {},
     "output_type": "display_data"
    }
   ],
   "source": [
    "\n",
    "loss_values = history_dict['loss']\n",
    "val_loss_values = history_dict['val_loss']\n",
    "\n",
    "epochs = range(1, len(loss_values) + 1)\n",
    "\n",
    "plt.plot(epochs, loss_values, 'bo', label='Training loss')\n",
    "plt.plot(epochs, val_loss_values, 'b', label='Validation loss')\n",
    "plt.title('Training and validation loss')\n",
    "plt.xlabel('Epochs')\n",
    "plt.ylabel('Loss')\n",
    "plt.legend()\n",
    "plt.show()"
   ]
  },
  {
   "cell_type": "markdown",
   "id": "b26b0b60",
   "metadata": {},
   "source": [
    "Plotting the training and validation **accuracy**"
   ]
  },
  {
   "cell_type": "code",
   "execution_count": 18,
   "id": "7b41e88b",
   "metadata": {},
   "outputs": [
    {
     "data": {
      "image/png": "[encoded data removed]",
      "text/plain": [
       "<Figure size 640x480 with 1 Axes>"
      ]
     },
     "metadata": {},
     "output_type": "display_data"
    }
   ],
   "source": [
    "plt.clf()  #Clears the figure\n",
    "acc_values = history_dict['accuracy']\n",
    "val_acc_values = history_dict['val_accuracy']\n",
    "\n",
    "plt.plot(epochs, acc_values, 'bo', label='Training acc')\n",
    "plt.plot(epochs, val_acc_values, 'b', label='Validation acc')\n",
    "plt.title('Training and validation accuracy')\n",
    "plt.xlabel('Epochs')\n",
    "plt.ylabel('Loss')\n",
    "plt.legend()\n",
    "\n",
    "plt.show()"
   ]
  },
  {
   "cell_type": "markdown",
   "id": "5690b30f",
   "metadata": {},
   "source": [
    "**VERY IMPORTANT:** More epochs cause *overfitting*, the training data gets overoptimazed and the learning representation is too specific to the training data, it doesn't generalize outside of the training set. If we train more epochs (for example: 20), we'll see that the *training* loss decrases and the *training* accuracy increased every epoch, **but** the *validation* loss and accuracy seem to peak at the 4th epoch.\n",
    "\n",
    "### Final results of training\n",
    "This fairly naive approach achieves an accuracy of 88%, as we can see with:"
   ]
  },
  {
   "cell_type": "code",
   "execution_count": 19,
   "id": "ff652e9d",
   "metadata": {},
   "outputs": [
    {
     "name": "stdout",
     "output_type": "stream",
     "text": [
      "782/782 [==============================] - 1s 1ms/step - loss: 0.7367 - accuracy: 0.8523\n"
     ]
    }
   ],
   "source": [
    "results = model.evaluate(x_test, y_test)"
   ]
  },
  {
   "cell_type": "markdown",
   "id": "8ac64085",
   "metadata": {},
   "source": [
    "# Predictions on new data with trained network\n",
    "The network can be confident for some samples but less confident for others, as we can see with:"
   ]
  },
  {
   "cell_type": "code",
   "execution_count": 20,
   "id": "d472950d",
   "metadata": {},
   "outputs": [
    {
     "data": {
      "text/plain": [
       "array([[0.00880506],\n",
       "       [1.        ],\n",
       "       [0.99468344],\n",
       "       ...,\n",
       "       [0.007587  ],\n",
       "       [0.01277474],\n",
       "       [0.89907366]], dtype=float32)"
      ]
     },
     "execution_count": 20,
     "metadata": {},
     "output_type": "execute_result"
    }
   ],
   "source": [
    "model.predict(x_test)"
   ]
  }
 ],
 "metadata": {
  "kernelspec": {
   "display_name": "Python 3",
   "language": "python",
   "name": "python3"
  },
  "language_info": {
   "codemirror_mode": {
    "name": "ipython",
    "version": 3
   },
   "file_extension": ".py",
   "mimetype": "text/x-python",
   "name": "python",
   "nbconvert_exporter": "python",
   "pygments_lexer": "ipython3",
   "version": "3.8.10"
  }
 },
 "nbformat": 4,
 "nbformat_minor": 5
}
