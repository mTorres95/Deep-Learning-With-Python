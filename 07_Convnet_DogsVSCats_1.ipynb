{
 "cells": [
  {
   "cell_type": "markdown",
   "metadata": {},
   "source": [
    "# Training a convnet from scratch on a small dataset\n",
    "\n",
    "### First step\n",
    "Naively train a small convnet on the training samples, *without regularization*, to set a baseline for what can be achieved."
   ]
  },
  {
   "cell_type": "code",
   "execution_count": 1,
   "metadata": {},
   "outputs": [],
   "source": [
    "import os"
   ]
  },
  {
   "cell_type": "code",
   "execution_count": 2,
   "metadata": {},
   "outputs": [],
   "source": [
    "base_dir = '/tf/data'\n",
    "\n",
    "# Directories for training, validation and test splits\n",
    "train_dir = os.path.join(base_dir, 'train')\n",
    "validation_dir = os.path.join(base_dir, 'validation')\n",
    "test_dir = os.path.join(base_dir, 'test')\n",
    "\n",
    "\n",
    "#Directory with training cat pictures\n",
    "train_cats_dir = os.path.join(train_dir, 'cats')\n",
    "\n",
    "# Directory with training dog pictures\n",
    "train_dogs_dir = os.path.join(train_dir, 'dogs')\n",
    "\n",
    "\n",
    "# Directory with validation cat pictures\n",
    "validation_cats_dir = os.path.join(validation_dir, 'cats')\n",
    "\n",
    "# Directory with validation dog pictures\n",
    "validation_dogs_dir = os.path.join(validation_dir, 'dogs')\n",
    "\n",
    "# Directory with test cat pictures\n",
    "test_cats_dir = os.path.join(test_dir, 'cats')\n",
    "\n",
    "# Directory with test dog pictures\n",
    "test_dogs_dir = os.path.join(test_dir, 'dogs')\n"
   ]
  },
  {
   "cell_type": "markdown",
   "metadata": {},
   "source": [
    "Test the paths to the data:"
   ]
  },
  {
   "cell_type": "code",
   "execution_count": null,
   "metadata": {},
   "outputs": [],
   "source": [
    "print('total training cat images:', len(os.listdir(train_cats_dir)))"
   ]
  },
  {
   "cell_type": "markdown",
   "metadata": {},
   "source": [
    "So we have 2000 training images, 1000 validation images and 1000 test images. Each split contains the **same** number of samples **from each class** => it's a *balanced* binary-classification problem => classification ```accuracy``` is an appropriate measure of success.\n",
    "\n",
    "#### Building the network\n",
    "It'll be similar to the MNIST convnet, except that, since we have bigger images and a more complex problem, the network must be larger and thefore, it'll have one more ```Conv2D + MaxPooling2D``` stage, both to:\n",
    "- augment the capacity of the network\n",
    "- further reduce the size of the feature map before the ```Flatten``` layer.\n",
    "\n",
    ">> The **depth** of the feature maps progressively increases in the network, whereas the **size** of the feature maps decreases."
   ]
  },
  {
   "cell_type": "code",
   "execution_count": 3,
   "metadata": {},
   "outputs": [],
   "source": [
    "from keras import layers\n",
    "from keras import models"
   ]
  },
  {
   "cell_type": "code",
   "execution_count": 22,
   "metadata": {},
   "outputs": [],
   "source": [
    "model = models.Sequential()\n",
    "model.add(layers.Conv2D(32, (3, 3), activation='relu',\n",
    "            input_shape=(150, 150, 3)))\n",
    "model.add(layers.MaxPooling2D((2, 2)))\n",
    "\n",
    "model.add(layers.Conv2D(64, (3, 3), activation='relu'))\n",
    "model.add(layers.MaxPooling2D((2, 2)))\n",
    "\n",
    "model.add(layers.Conv2D(128, (3, 3), activation='relu'))\n",
    "model.add(layers.MaxPooling2D((2, 2)))\n",
    "\n",
    "model.add(layers.Conv2D(128, (3, 3), activation='relu'))\n",
    "model.add(layers.MaxPooling2D((2, 2)))\n",
    "\n",
    "model.add(layers.Flatten())\n",
    "\n",
    "model.add(layers.Dense(512, activation='relu'))\n",
    "model.add(layers.Dense(1, activation='sigmoid'))"
   ]
  },
  {
   "cell_type": "code",
   "execution_count": 5,
   "metadata": {},
   "outputs": [],
   "source": [
    "from tensorflow.keras import optimizers"
   ]
  },
  {
   "cell_type": "code",
   "execution_count": 23,
   "metadata": {},
   "outputs": [],
   "source": [
    "model.compile(loss='binary_crossentropy',\n",
    "                optimizer=optimizers.RMSprop(learning_rate=1e-4),\n",
    "                metrics=['acc'])"
   ]
  },
  {
   "cell_type": "markdown",
   "metadata": {},
   "source": [
    "#### Data preprocessing\n",
    "- Read the picture files\n",
    "- Decode the JPEG content to RGB grid of pixels\n",
    "- Convert these into floating-point tensors\n",
    "- Rescale the pixel values (between 0 and 255) to the [0,1] interval (to deal with small input values)\n",
    "\n",
    "To do all these, Keras has a module with image-processing helper tools"
   ]
  },
  {
   "cell_type": "code",
   "execution_count": 7,
   "metadata": {},
   "outputs": [],
   "source": [
    "from keras.preprocessing.image import ImageDataGenerator"
   ]
  },
  {
   "cell_type": "code",
   "execution_count": 26,
   "metadata": {},
   "outputs": [
    {
     "name": "stdout",
     "output_type": "stream",
     "text": [
      "Found 2000 images belonging to 2 classes.\n",
      "Found 1000 images belonging to 2 classes.\n"
     ]
    }
   ],
   "source": [
    "train_datagen = ImageDataGenerator(rescale=1./255)\n",
    "test_datagen = ImageDataGenerator(rescale=1./255)\n",
    "\n",
    "train_generator = train_datagen.flow_from_directory(\n",
    "                train_dir,\n",
    "                target_size=(150, 150), # Resizes all images to 150 × 150\n",
    "                batch_size=20,\n",
    "                class_mode='binary') # Binary-crossentropy loss => needs\n",
    "                                     # binary labels\n",
    "\n",
    "validation_generator = test_datagen.flow_from_directory(\n",
    "                validation_dir,\n",
    "                target_size=(150, 150),\n",
    "                batch_size=20,\n",
    "                class_mode='binary')"
   ]
  },
  {
   "cell_type": "markdown",
   "metadata": {},
   "source": [
    "This generators (Python objects that act like iterators, built using the ```yield``` operation) output batches of 150x150 RGB images (batch size is 3, target size is 150x150 and it's RGB, so 3 channels).\n",
    "\n",
    "NOTE: the generator yields the batches *indefinitely*, so when fitting the model to the data using the generator (```fit_generator``` method), the Keras model needs to know how many samples to draw from the generator before declaring an epoch over => ```steps_per_epoch```. Same if we also pass a ```validation_data``` argument, it needs ```validation_steps``` to know how many batches to draw from the validation generator for evaluation."
   ]
  },
  {
   "cell_type": "markdown",
   "metadata": {},
   "source": [
    "**NOTE:** Image transformations require SciPy"
   ]
  },
  {
   "cell_type": "markdown",
   "metadata": {},
   "source": [
    "Method ```fit_generator``` is now deprecated, method ```fit``` now accepts generators."
   ]
  },
  {
   "cell_type": "code",
   "execution_count": 27,
   "metadata": {},
   "outputs": [
    {
     "name": "stdout",
     "output_type": "stream",
     "text": [
      "Epoch 1/30\n",
      "100/100 [==============================] - 3s 29ms/step - loss: 0.6603 - acc: 0.6170 - val_loss: 0.6437 - val_acc: 0.6460\n",
      "Epoch 2/30\n",
      "100/100 [==============================] - 3s 28ms/step - loss: 0.6151 - acc: 0.6650 - val_loss: 0.6131 - val_acc: 0.6660\n",
      "Epoch 3/30\n",
      "100/100 [==============================] - 3s 28ms/step - loss: 0.5711 - acc: 0.7045 - val_loss: 0.5908 - val_acc: 0.6820\n",
      "Epoch 4/30\n",
      "100/100 [==============================] - 3s 28ms/step - loss: 0.5295 - acc: 0.7305 - val_loss: 0.5841 - val_acc: 0.6900\n",
      "Epoch 5/30\n",
      "100/100 [==============================] - 3s 28ms/step - loss: 0.5077 - acc: 0.7440 - val_loss: 0.5938 - val_acc: 0.6850\n",
      "Epoch 6/30\n",
      "100/100 [==============================] - 3s 28ms/step - loss: 0.4790 - acc: 0.7725 - val_loss: 0.5784 - val_acc: 0.6880\n",
      "Epoch 7/30\n",
      "100/100 [==============================] - 3s 28ms/step - loss: 0.4542 - acc: 0.7820 - val_loss: 0.5792 - val_acc: 0.7010\n",
      "Epoch 8/30\n",
      "100/100 [==============================] - 3s 28ms/step - loss: 0.4237 - acc: 0.7995 - val_loss: 0.5610 - val_acc: 0.7100\n",
      "Epoch 9/30\n",
      "100/100 [==============================] - 3s 28ms/step - loss: 0.3969 - acc: 0.8275 - val_loss: 0.5938 - val_acc: 0.7010\n",
      "Epoch 10/30\n",
      "100/100 [==============================] - 3s 28ms/step - loss: 0.3769 - acc: 0.8310 - val_loss: 0.5566 - val_acc: 0.7330\n",
      "Epoch 11/30\n",
      "100/100 [==============================] - 3s 28ms/step - loss: 0.3483 - acc: 0.8465 - val_loss: 0.5489 - val_acc: 0.7340\n",
      "Epoch 12/30\n",
      "100/100 [==============================] - 3s 28ms/step - loss: 0.3192 - acc: 0.8700 - val_loss: 0.5645 - val_acc: 0.7270\n",
      "Epoch 13/30\n",
      "100/100 [==============================] - 3s 28ms/step - loss: 0.3015 - acc: 0.8730 - val_loss: 0.5559 - val_acc: 0.7360\n",
      "Epoch 14/30\n",
      "100/100 [==============================] - 3s 28ms/step - loss: 0.2791 - acc: 0.8850 - val_loss: 0.6214 - val_acc: 0.7320\n",
      "Epoch 15/30\n",
      "100/100 [==============================] - 3s 28ms/step - loss: 0.2615 - acc: 0.8955 - val_loss: 0.6064 - val_acc: 0.7270\n",
      "Epoch 16/30\n",
      "100/100 [==============================] - 3s 28ms/step - loss: 0.2359 - acc: 0.9105 - val_loss: 0.6346 - val_acc: 0.7130\n",
      "Epoch 17/30\n",
      "100/100 [==============================] - 3s 28ms/step - loss: 0.2153 - acc: 0.9160 - val_loss: 0.6381 - val_acc: 0.7300\n",
      "Epoch 18/30\n",
      "100/100 [==============================] - 3s 28ms/step - loss: 0.1891 - acc: 0.9300 - val_loss: 0.6575 - val_acc: 0.7310\n",
      "Epoch 19/30\n",
      "100/100 [==============================] - 3s 28ms/step - loss: 0.1774 - acc: 0.9340 - val_loss: 0.6548 - val_acc: 0.7370\n",
      "Epoch 20/30\n",
      "100/100 [==============================] - 3s 28ms/step - loss: 0.1559 - acc: 0.9495 - val_loss: 0.6443 - val_acc: 0.7310\n",
      "Epoch 21/30\n",
      "100/100 [==============================] - 3s 28ms/step - loss: 0.1367 - acc: 0.9510 - val_loss: 0.7349 - val_acc: 0.7360\n",
      "Epoch 22/30\n",
      "100/100 [==============================] - 3s 28ms/step - loss: 0.1174 - acc: 0.9610 - val_loss: 0.7886 - val_acc: 0.7220\n",
      "Epoch 23/30\n",
      "100/100 [==============================] - 3s 28ms/step - loss: 0.0996 - acc: 0.9715 - val_loss: 0.7896 - val_acc: 0.7340\n",
      "Epoch 24/30\n",
      "100/100 [==============================] - 3s 28ms/step - loss: 0.0928 - acc: 0.9760 - val_loss: 0.7812 - val_acc: 0.7330\n",
      "Epoch 25/30\n",
      "100/100 [==============================] - 3s 28ms/step - loss: 0.0756 - acc: 0.9785 - val_loss: 0.8003 - val_acc: 0.7400\n",
      "Epoch 26/30\n",
      "100/100 [==============================] - 3s 28ms/step - loss: 0.0676 - acc: 0.9825 - val_loss: 0.8661 - val_acc: 0.7250\n",
      "Epoch 27/30\n",
      "100/100 [==============================] - 3s 28ms/step - loss: 0.0590 - acc: 0.9850 - val_loss: 0.9156 - val_acc: 0.7250\n",
      "Epoch 28/30\n",
      "100/100 [==============================] - 3s 28ms/step - loss: 0.0459 - acc: 0.9870 - val_loss: 1.0015 - val_acc: 0.7280\n",
      "Epoch 29/30\n",
      "100/100 [==============================] - 3s 28ms/step - loss: 0.0441 - acc: 0.9900 - val_loss: 1.0045 - val_acc: 0.7400\n",
      "Epoch 30/30\n",
      "100/100 [==============================] - 3s 28ms/step - loss: 0.0379 - acc: 0.9900 - val_loss: 1.0095 - val_acc: 0.7400\n"
     ]
    }
   ],
   "source": [
    "history = model.fit(\n",
    "                train_generator,\n",
    "                steps_per_epoch=100,\n",
    "                epochs=30,\n",
    "                validation_data=validation_generator,\n",
    "                validation_steps=50)"
   ]
  },
  {
   "cell_type": "markdown",
   "metadata": {},
   "source": [
    "It's good practice to save the models after training:"
   ]
  },
  {
   "cell_type": "code",
   "execution_count": 29,
   "metadata": {},
   "outputs": [],
   "source": [
    "model.save('/tf/data/saved-models/cats_and_dogs_small_1.h5')"
   ]
  },
  {
   "cell_type": "markdown",
   "metadata": {},
   "source": [
    "#### Plot loss and accuracy"
   ]
  },
  {
   "cell_type": "code",
   "execution_count": 15,
   "metadata": {},
   "outputs": [],
   "source": [
    "import matplotlib.pyplot as plt"
   ]
  },
  {
   "cell_type": "code",
   "execution_count": 30,
   "metadata": {},
   "outputs": [
    {
     "data": {
      "image/png": "[encoded data removed]",
      "text/plain": [
       "<Figure size 640x480 with 1 Axes>"
      ]
     },
     "metadata": {},
     "output_type": "display_data"
    },
    {
     "data": {
      "image/png": "[encoded data removed]",
      "text/plain": [
       "<Figure size 640x480 with 1 Axes>"
      ]
     },
     "metadata": {},
     "output_type": "display_data"
    }
   ],
   "source": [
    "acc = history.history['acc']\n",
    "val_acc = history.history['val_acc']\n",
    "loss = history.history['loss']\n",
    "val_loss = history.history['val_loss']\n",
    "\n",
    "epochs = range(1, len(acc) + 1)\n",
    "\n",
    "plt.plot(epochs, acc, 'bo', label='Training acc')\n",
    "plt.plot(epochs, val_acc, 'b', label='Validation acc')\n",
    "plt.title('Training and validation accuracy')\n",
    "plt.legend()\n",
    "\n",
    "plt.figure()\n",
    "\n",
    "plt.plot(epochs, loss, 'bo', label='Training loss')\n",
    "plt.plot(epochs, val_loss, 'b', label='Validation loss')\n",
    "plt.title('Training and validation loss')\n",
    "plt.legend()\n",
    "\n",
    "plt.show()"
   ]
  },
  {
   "cell_type": "markdown",
   "metadata": {},
   "source": [
    "From the plots, we can see clear overfitting, as the *training* accuracy increases linearly to 100%, but the *validation* accuracy stalls at 70-72%.\n",
    "\n",
    "Same for loss, *validation* loss reaches a minimum after 5 epochs while *training* loss reaches nearly 0."
   ]
  }
 ],
 "metadata": {
  "kernelspec": {
   "display_name": "Python 3",
   "language": "python",
   "name": "python3"
  },
  "language_info": {
   "codemirror_mode": {
    "name": "ipython",
    "version": 3
   },
   "file_extension": ".py",
   "mimetype": "text/x-python",
   "name": "python",
   "nbconvert_exporter": "python",
   "pygments_lexer": "ipython3",
   "version": "3.8.10"
  },
  "orig_nbformat": 4
 },
 "nbformat": 4,
 "nbformat_minor": 2
}
